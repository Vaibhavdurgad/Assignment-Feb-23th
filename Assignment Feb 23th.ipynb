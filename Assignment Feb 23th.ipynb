{
 "cells": [
  {
   "cell_type": "markdown",
   "id": "aa1178f1-1b4b-4950-9744-76d23398809d",
   "metadata": {},
   "source": [
    "Q1. Create a Pandas Series that contains the following data: 4, 8, 15, 16, 23, and 42. Then, print the series."
   ]
  },
  {
   "cell_type": "code",
   "execution_count": 1,
   "id": "f8322c48-1208-46d5-b7bb-b04ba1f94315",
   "metadata": {},
   "outputs": [
    {
     "name": "stdout",
     "output_type": "stream",
     "text": [
      "0     4\n",
      "1     8\n",
      "2    15\n",
      "3    16\n",
      "4    23\n",
      "5    42\n",
      "dtype: int64\n"
     ]
    }
   ],
   "source": [
    "import pandas as pd\n",
    "a = [4, 8, 15, 16, 23, 42]\n",
    "myvar = pd.Series(a)\n",
    "print(myvar)"
   ]
  },
  {
   "cell_type": "markdown",
   "id": "ccba09a7-164c-43a5-b376-d6adcff08515",
   "metadata": {},
   "source": [
    "Q2. Create a variable of list type containing 10 elements in it, and apply pandas.Series function on the\n",
    "variable print it."
   ]
  },
  {
   "cell_type": "code",
   "execution_count": 3,
   "id": "5349009c-f23a-42d7-ae07-65a2c457afff",
   "metadata": {},
   "outputs": [
    {
     "name": "stdout",
     "output_type": "stream",
     "text": [
      "0     1\n",
      "1     2\n",
      "2     3\n",
      "3     4\n",
      "4     5\n",
      "5     6\n",
      "6     7\n",
      "7     8\n",
      "8     9\n",
      "9    10\n",
      "dtype: int64\n"
     ]
    }
   ],
   "source": [
    "import pandas as pd\n",
    "a1 = [1,2,3,4,5,6,7,8,9,10]\n",
    "myvar1 = pd.Series(a1)\n",
    "print(myvar1)"
   ]
  },
  {
   "cell_type": "markdown",
   "id": "7c3d7e71-cfd5-4952-af1b-65ac99568fe3",
   "metadata": {},
   "source": [
    "Q3. Create a Pandas DataFrame that contains the following data:\n",
    "\n",
    "Then, print the DataFrame."
   ]
  },
  {
   "cell_type": "code",
   "execution_count": 10,
   "id": "9413f73e-e3f0-4a07-a96b-50303e33e8d7",
   "metadata": {},
   "outputs": [],
   "source": [
    "data={'Name':['Alice','Bob','Claire'],\n",
    "       'Age':[25,30,27],\n",
    "       'Gender':['Female','Male','Female']}"
   ]
  },
  {
   "cell_type": "code",
   "execution_count": 11,
   "id": "811173ed-b9d7-46db-bc1e-5b9e10399a2d",
   "metadata": {},
   "outputs": [
    {
     "name": "stdout",
     "output_type": "stream",
     "text": [
      "     Name  Age  Gender\n",
      "0   Alice   25  Female\n",
      "1     Bob   30    Male\n",
      "2  Claire   27  Female\n"
     ]
    }
   ],
   "source": [
    "myvar2 =pd.DataFrame(data)\n",
    "print(myvar2)"
   ]
  },
  {
   "cell_type": "markdown",
   "id": "92f4761b-502e-4569-9712-f39cefcbf603",
   "metadata": {},
   "source": [
    "Q4. What is ‘DataFrame’ in pandas and how is it different from pandas.series? Explain with an example."
   ]
  },
  {
   "cell_type": "markdown",
   "id": "637b2829-8f3e-4f8a-89f3-d188c60bd201",
   "metadata": {},
   "source": [
    "Ans:A Pandas DataFrame is a 2 dimensional data structure, like a 2 dimensional array, or a table with rows and columns."
   ]
  },
  {
   "cell_type": "markdown",
   "id": "4beab1bf-52fa-45eb-aac1-000913a50ce1",
   "metadata": {},
   "source": [
    "Pandas Series\t\n",
    "One-dimensional\n",
    "Homogenous – Series elements must be of the same data type.\n",
    "\n",
    "Pandas DataFrame\n",
    "Two-dimensional\n",
    "Heterogenous – DataFrame elements can have different data types."
   ]
  },
  {
   "cell_type": "code",
   "execution_count": 12,
   "id": "0fa0c321-8fd6-4411-90c7-627602253b0a",
   "metadata": {},
   "outputs": [
    {
     "name": "stdout",
     "output_type": "stream",
     "text": [
      "0     1\n",
      "1     2\n",
      "2     3\n",
      "3     4\n",
      "4     5\n",
      "5     6\n",
      "6     7\n",
      "7     8\n",
      "8     9\n",
      "9    10\n",
      "dtype: int64\n"
     ]
    }
   ],
   "source": [
    "import pandas as pd\n",
    "a1 = [1,2,3,4,5,6,7,8,9,10]\n",
    "myvar1 = pd.Series(a1)\n",
    "print(myvar1)"
   ]
  },
  {
   "cell_type": "code",
   "execution_count": 13,
   "id": "f870ce68-1cce-4dbe-ba25-7cf2aa4c3a6c",
   "metadata": {},
   "outputs": [
    {
     "name": "stdout",
     "output_type": "stream",
     "text": [
      "     Name  Age  Gender\n",
      "0   Alice   25  Female\n",
      "1     Bob   30    Male\n",
      "2  Claire   27  Female\n"
     ]
    }
   ],
   "source": [
    "data={'Name':['Alice','Bob','Claire'],\n",
    "       'Age':[25,30,27],\n",
    "       'Gender':['Female','Male','Female']}\n",
    "myvar2 =pd.DataFrame(data)\n",
    "print(myvar2)"
   ]
  },
  {
   "cell_type": "markdown",
   "id": "c080d064-8852-4a7d-99eb-c72afd3d2b68",
   "metadata": {},
   "source": [
    "Q5. What are some common functions you can use to manipulate data in a Pandas DataFrame? Can\n",
    "you give an example of when you might use one of these functions?"
   ]
  },
  {
   "cell_type": "markdown",
   "id": "432fef28-81f0-44b4-915f-b03601bba1b3",
   "metadata": {},
   "source": [
    "Ans :\n",
    "Dropping columns in the data.\n",
    "Dropping rows in the data.\n",
    "Renaming a column in the dataset.\n",
    "Select columns with specific data types.\n",
    "Slicing the dataset."
   ]
  },
  {
   "cell_type": "code",
   "execution_count": 14,
   "id": "228b3878-bc62-45ab-85c4-be41f69151bc",
   "metadata": {},
   "outputs": [
    {
     "name": "stdout",
     "output_type": "stream",
     "text": [
      "1        Bob\n",
      "2    Charlie\n",
      "Name: name, dtype: object\n"
     ]
    }
   ],
   "source": [
    "import pandas as pd\n",
    "data = {'name': ['Alice', 'Bob', 'Charlie'], 'age': [30, 25, 40]}\n",
    "df = pd.DataFrame(data)\n",
    "df_subset = df.loc[1:2, 'name']\n",
    "print(df_subset)"
   ]
  },
  {
   "cell_type": "markdown",
   "id": "8c7e6479-1410-4c01-9c60-6ba7743273cf",
   "metadata": {},
   "source": [
    "Q6. Which of the following is mutable in nature Series, DataFrame, Panel?"
   ]
  },
  {
   "cell_type": "markdown",
   "id": "1b38dd9e-d4f2-434f-9cdd-6d2f7b27dfbd",
   "metadata": {},
   "source": [
    "Ans :dataframe is mutable"
   ]
  },
  {
   "cell_type": "markdown",
   "id": "9c5889b7-197b-46ec-b36d-1293540e3c00",
   "metadata": {},
   "source": [
    "Q7. Create a DataFrame using multiple Series. Explain with an example."
   ]
  },
  {
   "cell_type": "code",
   "execution_count": 17,
   "id": "0e0bc16a-abcc-4113-b576-6ca87c6acadd",
   "metadata": {},
   "outputs": [
    {
     "name": "stdout",
     "output_type": "stream",
     "text": [
      "         0      1     2\n",
      "0    Spark  22000  1000\n",
      "1  PySpark  25000  2300\n",
      "2   Hadoop  23000  1000\n"
     ]
    }
   ],
   "source": [
    "\n",
    "import pandas as pd\n",
    "# Create pandas Series\n",
    "courses = pd.Series([\"Spark\",\"PySpark\",\"Hadoop\"])\n",
    "fees = pd.Series([22000,25000,23000])\n",
    "discount  = pd.Series([1000,2300,1000])\n",
    "\n",
    "# It also supports to combine multiple series.\n",
    "df=pd.concat([courses,fees,discount],axis=1)\n",
    "print(df)\n"
   ]
  },
  {
   "cell_type": "code",
   "execution_count": null,
   "id": "1596fe63-9805-4e2f-aead-be416661d89c",
   "metadata": {},
   "outputs": [],
   "source": []
  }
 ],
 "metadata": {
  "kernelspec": {
   "display_name": "Python 3 (ipykernel)",
   "language": "python",
   "name": "python3"
  },
  "language_info": {
   "codemirror_mode": {
    "name": "ipython",
    "version": 3
   },
   "file_extension": ".py",
   "mimetype": "text/x-python",
   "name": "python",
   "nbconvert_exporter": "python",
   "pygments_lexer": "ipython3",
   "version": "3.10.8"
  }
 },
 "nbformat": 4,
 "nbformat_minor": 5
}
